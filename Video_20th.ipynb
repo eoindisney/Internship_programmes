{
 "cells": [
  {
   "cell_type": "code",
   "execution_count": 4,
   "metadata": {},
   "outputs": [
    {
     "name": "stderr",
     "output_type": "stream",
     "text": [
      "/tmp/ipykernel_5618/4225510320.py:18: DeprecationWarning: Starting with ImageIO v3 the behavior of this function will switch to that of iio.v3.imread. To keep the current behavior (and make this warning disappear) use `import imageio.v2 as imageio` or call `imageio.v2.imread` directly.\n",
      "  frames.append(imageio.imread(file_path))\n"
     ]
    }
   ],
   "source": [
    "import imageio\n",
    "import os\n",
    "\n",
    "# Define the directory path where the PNG files are located\n",
    "directory = '/home/eoindisney/CME_Programmes'\n",
    "\n",
    "# Get a list of the PNG files in the directory\n",
    "file_names = sorted([f for f in os.listdir(directory) if f.endswith('.png')])\n",
    "\n",
    "# Sort the file names based on the timestamp encoded in their names\n",
    "file_names.sort(key=lambda x: int(x.split('_')[2].split('.')[0]))\n",
    "# Create an empty list to store the image frames\n",
    "frames = []\n",
    "\n",
    "# Read each PNG file and append it to the frames list\n",
    "for file_name in file_names:\n",
    "    file_path = os.path.join(directory, file_name)\n",
    "    frames.append(imageio.imread(file_path))\n",
    "\n",
    "# Define the output video file path\n",
    "output_file = '/home/eoindisney/20th_March_Grid.mp4'\n",
    "\n",
    "# Save the frames as a video using imageio\n",
    "imageio.mimsave(output_file, frames, fps=1)\n",
    "\n",
    "\n"
   ]
  }
 ],
 "metadata": {
  "kernelspec": {
   "display_name": "Python 3",
   "language": "python",
   "name": "python3"
  },
  "language_info": {
   "codemirror_mode": {
    "name": "ipython",
    "version": 3
   },
   "file_extension": ".py",
   "mimetype": "text/x-python",
   "name": "python",
   "nbconvert_exporter": "python",
   "pygments_lexer": "ipython3",
   "version": "3.10.6"
  },
  "orig_nbformat": 4
 },
 "nbformat": 4,
 "nbformat_minor": 2
}

{
 "cells": [
  {
   "cell_type": "code",
   "execution_count": 10,
   "metadata": {},
   "outputs": [
    {
     "name": "stdout",
     "output_type": "stream",
     "text": [
      "Decompressed /home/eoindisney/Unfinished/20230321.2000.02.rkn.a.fitacf.bz2 to /home/eoindisney/RKN/20230321.2000.02.rkn.a.fitacf\n",
      "Decompressed /home/eoindisney/Unfinished/20230321.0800.00.rkn.a.fitacf.bz2 to /home/eoindisney/RKN/20230321.0800.00.rkn.a.fitacf\n",
      "Decompressed /home/eoindisney/Unfinished/20230321.0600.00.rkn.a.fitacf.bz2 to /home/eoindisney/RKN/20230321.0600.00.rkn.a.fitacf\n",
      "Decompressed /home/eoindisney/Unfinished/20230321.0400.00.rkn.a.fitacf.bz2 to /home/eoindisney/RKN/20230321.0400.00.rkn.a.fitacf\n",
      "Decompressed /home/eoindisney/Unfinished/20230321.0200.00.rkn.a.fitacf.bz2 to /home/eoindisney/RKN/20230321.0200.00.rkn.a.fitacf\n",
      "Decompressed /home/eoindisney/Unfinished/20230321.0000.00.rkn.a.fitacf.bz2 to /home/eoindisney/RKN/20230321.0000.00.rkn.a.fitacf\n",
      "Decompressed /home/eoindisney/Unfinished/20230321.1500.26.rkn.a.fitacf.bz2 to /home/eoindisney/RKN/20230321.1500.26.rkn.a.fitacf\n",
      "Decompressed /home/eoindisney/Unfinished/20230321.1800.00.rkn.a.fitacf.bz2 to /home/eoindisney/RKN/20230321.1800.00.rkn.a.fitacf\n",
      "Decompressed /home/eoindisney/Unfinished/20230321.1200.00.rkn.a.fitacf.bz2 to /home/eoindisney/RKN/20230321.1200.00.rkn.a.fitacf\n",
      "Decompressed /home/eoindisney/Unfinished/20230321.1000.00.rkn.a.fitacf.bz2 to /home/eoindisney/RKN/20230321.1000.00.rkn.a.fitacf\n",
      "Decompressed /home/eoindisney/Unfinished/20230321.1400.00.rkn.a.fitacf.bz2 to /home/eoindisney/RKN/20230321.1400.00.rkn.a.fitacf\n",
      "Decompressed /home/eoindisney/Unfinished/20230321.2100.29.rkn.a.fitacf.bz2 to /home/eoindisney/RKN/20230321.2100.29.rkn.a.fitacf\n",
      "Decompressed /home/eoindisney/Unfinished/20230321.2200.00.rkn.a.fitacf.bz2 to /home/eoindisney/RKN/20230321.2200.00.rkn.a.fitacf\n",
      "Decompressed /home/eoindisney/Unfinished/20230321.1600.01.rkn.a.fitacf.bz2 to /home/eoindisney/RKN/20230321.1600.01.rkn.a.fitacf\n"
     ]
    }
   ],
   "source": [
    "import os\n",
    "import bz2\n",
    "\n",
    "# Function to decompress .bz2 file to .fitacf file\n",
    "def decompress_bz2_to_fitacf(bz2_file, output_dir):\n",
    "    filename = os.path.basename(bz2_file)\n",
    "    fitacf_file = os.path.join(output_dir, filename[:-4])\n",
    "    \n",
    "    with bz2.open(bz2_file, \"rb\") as f_bz2:\n",
    "        with open(fitacf_file, \"wb\") as f_fitacf:\n",
    "            f_fitacf.write(f_bz2.read())\n",
    "\n",
    "    print(f\"Decompressed {bz2_file} to {fitacf_file}\")\n",
    "\n",
    "# Directory containing .bz2 files\n",
    "bz2_directory = \"/home/eoindisney/bz2\"\n",
    "\n",
    "# Output directory for .fitacf files (same as bz2_directory)\n",
    "fitacf_directory = \"/home/eoindisney/RKN\"\n",
    "\n",
    "# Iterate over .bz2 files in the directory\n",
    "for filename in os.listdir(bz2_directory):\n",
    "    if filename.endswith(\".bz2\") and 'rkn' in filename:\n",
    "        bz2_file = os.path.join(bz2_directory, filename)\n",
    "        decompress_bz2_to_fitacf(bz2_file, fitacf_directory)\n"
   ]
  }
 ],
 "metadata": {
  "kernelspec": {
   "display_name": "Python 3",
   "language": "python",
   "name": "python3"
  },
  "language_info": {
   "codemirror_mode": {
    "name": "ipython",
    "version": 3
   },
   "file_extension": ".py",
   "mimetype": "text/x-python",
   "name": "python",
   "nbconvert_exporter": "python",
   "pygments_lexer": "ipython3",
   "version": "3.10.6"
  },
  "orig_nbformat": 4
 },
 "nbformat": 4,
 "nbformat_minor": 2
}
